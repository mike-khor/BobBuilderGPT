{
 "cells": [
  {
   "cell_type": "code",
   "execution_count": 1,
   "id": "110b6130",
   "metadata": {},
   "outputs": [
    {
     "name": "stdout",
     "output_type": "stream",
     "text": [
      "Requirement already satisfied: openai in /Users/ericdanforth/anaconda3/lib/python3.10/site-packages (0.27.8)\r\n",
      "Requirement already satisfied: tqdm in /Users/ericdanforth/anaconda3/lib/python3.10/site-packages (from openai) (4.64.1)\r\n",
      "Requirement already satisfied: aiohttp in /Users/ericdanforth/anaconda3/lib/python3.10/site-packages (from openai) (3.8.4)\r\n",
      "Requirement already satisfied: requests>=2.20 in /Users/ericdanforth/anaconda3/lib/python3.10/site-packages (from openai) (2.28.1)\r\n",
      "Requirement already satisfied: certifi>=2017.4.17 in /Users/ericdanforth/anaconda3/lib/python3.10/site-packages (from requests>=2.20->openai) (2022.12.7)\r\n",
      "Requirement already satisfied: idna<4,>=2.5 in /Users/ericdanforth/anaconda3/lib/python3.10/site-packages (from requests>=2.20->openai) (3.4)\r\n",
      "Requirement already satisfied: urllib3<1.27,>=1.21.1 in /Users/ericdanforth/anaconda3/lib/python3.10/site-packages (from requests>=2.20->openai) (1.26.14)\r\n",
      "Requirement already satisfied: charset-normalizer<3,>=2 in /Users/ericdanforth/anaconda3/lib/python3.10/site-packages (from requests>=2.20->openai) (2.0.4)\r\n",
      "Requirement already satisfied: async-timeout<5.0,>=4.0.0a3 in /Users/ericdanforth/anaconda3/lib/python3.10/site-packages (from aiohttp->openai) (4.0.2)\r\n",
      "Requirement already satisfied: attrs>=17.3.0 in /Users/ericdanforth/anaconda3/lib/python3.10/site-packages (from aiohttp->openai) (22.1.0)\r\n",
      "Requirement already satisfied: frozenlist>=1.1.1 in /Users/ericdanforth/anaconda3/lib/python3.10/site-packages (from aiohttp->openai) (1.3.3)\r\n",
      "Requirement already satisfied: yarl<2.0,>=1.0 in /Users/ericdanforth/anaconda3/lib/python3.10/site-packages (from aiohttp->openai) (1.9.2)\r\n",
      "Requirement already satisfied: multidict<7.0,>=4.5 in /Users/ericdanforth/anaconda3/lib/python3.10/site-packages (from aiohttp->openai) (6.0.4)\r\n",
      "Requirement already satisfied: aiosignal>=1.1.2 in /Users/ericdanforth/anaconda3/lib/python3.10/site-packages (from aiohttp->openai) (1.3.1)\r\n"
     ]
    }
   ],
   "source": [
    "!pip install openai"
   ]
  },
  {
   "cell_type": "code",
   "execution_count": 4,
   "id": "8916b31a",
   "metadata": {},
   "outputs": [],
   "source": [
    "OPENAI_API_KEY = 'YOUR_API_KEY'"
   ]
  },
  {
   "cell_type": "code",
   "execution_count": 1,
   "id": "b0ca7131",
   "metadata": {},
   "outputs": [],
   "source": [
    "# alternatively get it in from os environment\n",
    "import os\n",
    "OPENAI_API_KEY = os.getenv(\"OPENAI_API_KEY\")"
   ]
  },
  {
   "cell_type": "code",
   "execution_count": 6,
   "id": "b2c4521a",
   "metadata": {},
   "outputs": [],
   "source": [
    "import openai\n",
    "\n",
    "prompt = \"What is the airspeed velocity of an unladen swallow\"\n",
    "\n",
    "openai.api_key = OPENAI_API_KEY\n",
    "\n",
    "response = openai.ChatCompletion.create(\n",
    "  model=\"gpt-4-0314\", # gpt-3.5-turbo\n",
    "  messages=[\n",
    "        {\"role\": \"system\", \"content\": \"You are a helpful assistant.\"},\n",
    "        {\"role\": \"user\", \"content\": prompt}\n",
    "    ]\n",
    ")"
   ]
  },
  {
   "cell_type": "code",
   "execution_count": 7,
   "id": "5e99cc06",
   "metadata": {},
   "outputs": [
    {
     "data": {
      "text/plain": [
       "<OpenAIObject chat.completion id=chatcmpl-7SUgwfojN66ImG7fLcV8uZIbBzUJO at 0x7f90f99f57b0> JSON: {\n",
       "  \"id\": \"chatcmpl-7SUgwfojN66ImG7fLcV8uZIbBzUJO\",\n",
       "  \"object\": \"chat.completion\",\n",
       "  \"created\": 1687025518,\n",
       "  \"model\": \"gpt-4-0314\",\n",
       "  \"usage\": {\n",
       "    \"prompt_tokens\": 28,\n",
       "    \"completion_tokens\": 152,\n",
       "    \"total_tokens\": 180\n",
       "  },\n",
       "  \"choices\": [\n",
       "    {\n",
       "      \"message\": {\n",
       "        \"role\": \"assistant\",\n",
       "        \"content\": \"The airspeed velocity of an unladen swallow has been a topic of various debates, fueled largely by a humorous exchange in the film Monty Python and the Holy Grail. In the movie, no concrete answer is provided.\\n\\nHowever, some enthusiasts have made efforts to calculate the airspeed velocity of an unladen swallow. According to a study by biologist Jukka T. Forsman, the average airspeed for the European Swallow (Hirundo rustica) is approximately 20.1 meters per second, or around 45 miles per hour.\\n\\nIt's important to note that this approximation might not be universally accurate as different swallow species have varying sizes and flight characteristics. Additionally, external factors like wind and altitude can also affect the airspeed velocity.\"\n",
       "      },\n",
       "      \"finish_reason\": \"stop\",\n",
       "      \"index\": 0\n",
       "    }\n",
       "  ]\n",
       "}"
      ]
     },
     "execution_count": 7,
     "metadata": {},
     "output_type": "execute_result"
    }
   ],
   "source": [
    "response"
   ]
  },
  {
   "cell_type": "code",
   "execution_count": null,
   "id": "2edefb24",
   "metadata": {},
   "outputs": [],
   "source": []
  }
 ],
 "metadata": {
  "kernelspec": {
   "display_name": "Python 3 (ipykernel)",
   "language": "python",
   "name": "python3"
  },
  "language_info": {
   "codemirror_mode": {
    "name": "ipython",
    "version": 3
   },
   "file_extension": ".py",
   "mimetype": "text/x-python",
   "name": "python",
   "nbconvert_exporter": "python",
   "pygments_lexer": "ipython3",
   "version": "3.11.2"
  }
 },
 "nbformat": 4,
 "nbformat_minor": 5
}
